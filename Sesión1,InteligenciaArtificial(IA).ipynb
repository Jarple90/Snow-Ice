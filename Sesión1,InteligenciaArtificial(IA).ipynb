{
  "nbformat": 4,
  "nbformat_minor": 0,
  "metadata": {
    "colab": {
      "provenance": [],
      "authorship_tag": "ABX9TyM6gZbpqEtFbjzJN0u8UtTA",
      "include_colab_link": true
    },
    "kernelspec": {
      "name": "python3",
      "display_name": "Python 3"
    },
    "language_info": {
      "name": "python"
    }
  },
  "cells": [
    {
      "cell_type": "markdown",
      "metadata": {
        "id": "view-in-github",
        "colab_type": "text"
      },
      "source": [
        "<a href=\"https://colab.research.google.com/github/Jarple90/Snow-Ice/blob/main/Sesi%C3%B3n1%2CInteligenciaArtificial(IA).ipynb\" target=\"_parent\"><img src=\"https://colab.research.google.com/assets/colab-badge.svg\" alt=\"Open In Colab\"/></a>"
      ]
    },
    {
      "cell_type": "code",
      "execution_count": null,
      "metadata": {
        "id": "ydZaEuLNR0p5"
      },
      "outputs": [],
      "source": [
        "# prompt: print(\"Hola qué tal estás?\")\n",
        "\n",
        "print(\"Hola qué tal estás?\")"
      ]
    },
    {
      "cell_type": "markdown",
      "source": [
        "#Fundamentos de la IA\n",
        "\n",
        "**#Disciplina científica que se ocupa de crear programas informáticos que ejecutan operaciones comparables a las que realiza la mente humana, como el aprendizaje o el razonamiento lógico [RAE]**\n",
        "\n",
        "#Áreas de la IA\n",
        "\n",
        "**#Machine Learning**\n",
        "**#NLP**\n",
        "**#Sistemas Expertos**\n",
        "**#STT**\n",
        "**#Visión Artificial**\n",
        "**#Robótica**\n",
        "\n",
        "#Tipos de IA\n",
        "\n",
        "**#Inteligencia Humana y Inteligencia Artificial [IA]**\n",
        "**#IA Débil y Estrecha [ANI] o Fuerte y Profunda [AGI]**\n",
        "**#SuperIntelicencia [ASI]**"
      ],
      "metadata": {
        "id": "PKCU1-ZbVkd7"
      }
    },
    {
      "cell_type": "markdown",
      "source": [
        "#Variables y Tipos de datos\n",
        "\n",
        "*#Una variable en Python es un nombre que se asocia con un valor almacenado en la memoria. Las variables se utilizan para almacenar datos que pueden ser manipulados y utilizados a lo largo de un programa.*\n",
        "\n",
        "**#A=10**\n",
        "\n",
        "#Tipos de datos\n",
        "\n",
        "**#Números (Enteros, Reales, Complejos)**\n",
        "**#Cadenas**\n",
        "**#Booleanos**\n",
        "**#Listas**\n",
        "**#Tuplas**\n",
        "**#Diccionarios**\n",
        "**#Sets**\n",
        "\n",
        "#**En Python no hace falta definir el tipo de dato (ya lo detecta Python)**\n",
        "\n",
        "\n"
      ],
      "metadata": {
        "id": "pbK7s2AXW8ew"
      }
    },
    {
      "cell_type": "markdown",
      "source": [
        "#Enteros y flotantes\n",
        "\n",
        "**En Python, los númeroes enteros (INT) o (Integer; en otros lenguajes) son valores sin decimales que pueden ser positivos, negativos o ceros y que tienen un rango prácticamente ilimitado. Los números reales (float) son valores con decimales que también pueden ser positivos, negativos o cero y se utilizan para representar números fraccionarios.**\n",
        "\n",
        "#Entero = 5\n",
        "#Flotante = 2,5\n",
        "\n",
        "#Cadenas\n",
        "\n",
        "**#Una cadena, o string, en Python es una secuencia de caracteres encerrada entre comillas simples (' ') o comillas dobles (\" \"). Las cadenas son utilizadas para almacenar y manipular texto.**\n",
        "\n",
        "#\"Esto es una cadena de texto\"\n",
        "\n",
        "#Listas\n",
        "\n",
        "**#Son secuencias mutables de elementos, que pueden ser de cualquier tipo y s epueden modificar después de su creación. Se usan normalmente para crear colecciones de datos. Se crean con corchetes [].**\n",
        "\n",
        "#Características Principales\n",
        "\n",
        "**#Ordenadas**\n",
        "**#Mutables**\n",
        "**#Permiten elementos duplicados**\n",
        "**#Heterogéneas (pueden tener elementos de diferentes tipos)**\n",
        "\n",
        "#Ejemplos de uso\n",
        "\n",
        "**#Almacenar y manipular una colección de datos dinámicos.**\n",
        "**#Iterar sobre elementos en bucles**\n",
        "**#Agregar, eliminar o modificar elementos de la colección**\n",
        "\n",
        "#Lista = [1,2,3,\"a\",\"b\",\"c\"]\n"
      ],
      "metadata": {
        "id": "JYjEcM_AZM3v"
      }
    },
    {
      "cell_type": "markdown",
      "source": [],
      "metadata": {
        "id": "LmCXkKIJhvUJ"
      }
    },
    {
      "cell_type": "markdown",
      "source": [],
      "metadata": {
        "id": "RuAV2tc4W1e8"
      }
    }
  ]
}